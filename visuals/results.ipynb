{
 "cells": [
  {
   "cell_type": "code",
   "execution_count": 1,
   "metadata": {},
   "outputs": [],
   "source": [
    "import matplotlib.pyplot as plt\n",
    "import numpy as np\n",
    "\n",
    "def plot_graph(x_data, y_data, title, x_label='x', y_label='y', y_max=None):\n",
    "  x = np.arange(len(x_data))  # the label locations\n",
    "  width = 0.25  # the width of the bars\n",
    "  multiplier = 0\n",
    "\n",
    "  fig, ax = plt.subplots(layout='constrained')\n",
    "\n",
    "  for attribute, measurement in y_data.items():\n",
    "    offset = width * multiplier\n",
    "    rects = ax.bar(x + offset, measurement, width, label=attribute)\n",
    "    ax.bar_label(rects, padding=3)\n",
    "    multiplier += 1\n",
    "\n",
    "  # Add some text for labels, title and custom x-axis tick labels, etc.\n",
    "  ax.set_ylabel(y_label)\n",
    "  ax.set_xlabel(x_label)\n",
    "  ax.set_title(title)\n",
    "  ax.set_xticks(x + width, x_data)\n",
    "  ax.legend(loc='upper left')\n",
    "  ax.set_ylim(0, y_max)\n",
    "\n",
    "  plt.show()"
   ]
  },
  {
   "cell_type": "code",
   "execution_count": 3,
   "metadata": {},
   "outputs": [],
   "source": [
    "\n",
    "sizes = (\"1\", \"2\", \"2.5\")\n",
    "times = {\n",
    "    'Secuencial (CPU)': (38.6, 395.8, 1108.6),\n",
    "    'Cuda (GPU)': (76.1, 89.1, 91.9),\n",
    "    'OpenACC (GPU)': (77.4, 107.9, 185.6),\n",
    "}\n",
    "\n",
    "plot_graph(\n",
    "    x_data=sizes,\n",
    "    y_data=times,\n",
    "    title='Time vs Size',\n",
    "    x_label='Matrix sixe (N * 1000)',\n",
    "    y_label='Time (ms)',\n",
    "    y_max=1400\n",
    ")"
   ]
  },
  {
   "cell_type": "code",
   "execution_count": 14,
   "metadata": {},
   "outputs": [],
   "source": [
    "import matplotlib.pyplot as plt\n",
    "import numpy as np\n",
    "\n",
    "# error_1000\n",
    "error = [596.906, 162.505, 44.2197, 12.0305, 3.273, 0.890452, 0.242256, 0.065908, 0.0179309, 0.00487828, 0.00132718, 0.000361072, 9.82332e-05, 2.67253e-05, 7.27087e-06, ]\n",
    "\n",
    "error_log = np.log(error)\n",
    "\n",
    "# fig, (ax0, ax1) = plt.subplots(2, 1, layout='constrained')\n",
    "fig, ax = plt.subplots(layout='constrained')\n",
    "\n",
    "ax.plot(error, 'r', linewidth=2)\n",
    "# ax.set_xlim(0, 5)\n",
    "ax.set_title('MAE for CPU method (N=3000)')\n",
    "ax.set_xlabel('Iterations')\n",
    "ax.set_ylabel('Error')\n",
    "ax.grid(True)\n",
    "\n",
    "plt.show()"
   ]
  },
  {
   "cell_type": "code",
   "execution_count": 10,
   "metadata": {},
   "outputs": [],
   "source": [
    "static_sizes = (\"1\", \"1.5\", \"2\", \"2.5\", \"3\")\n",
    "static_times = {\n",
    "    'Secuencial (CPU)': (56.96, 307.74, 674.90, 674.90, 1934.14),\n",
    "    'Cuda (GPU)': (71.64, 122.56, 147.28, 147.28, 263.34),\n",
    "    'OpenACC (GPU)': (69.90, 105.77, 113.58, 113.58, 183.70),\n",
    "}\n",
    "\n",
    "plot_graph(static_sizes, static_times, '', 'Matrix size (N * 1000)', 'Time (ms)', 2200)"
   ]
  },
  {
   "cell_type": "code",
   "execution_count": 12,
   "metadata": {},
   "outputs": [],
   "source": [
    "m_sizes = (\"1\", \"1.5\", \"2\", \"2.5\", \"3\")\n",
    "speedups = {\n",
    "    'Cuda (GPU)': (0.79, 2.51, 4.58, 4.58, 7.34),\n",
    "    'OpenACC (GPU)': (0.81, 2.91, 5.94, 5.94, 10.53),\n",
    "}\n",
    "\n",
    "plot_graph(m_sizes, speedups, '', 'Matrix size (N * 1000)', 'Speedup', 13)"
   ]
  }
 ],
 "metadata": {
  "kernelspec": {
   "display_name": "base",
   "language": "python",
   "name": "python3"
  },
  "language_info": {
   "codemirror_mode": {
    "name": "ipython",
    "version": 3
   },
   "file_extension": ".py",
   "mimetype": "text/x-python",
   "name": "python",
   "nbconvert_exporter": "python",
   "pygments_lexer": "ipython3",
   "version": "3.9.12"
  }
 },
 "nbformat": 4,
 "nbformat_minor": 2
}
